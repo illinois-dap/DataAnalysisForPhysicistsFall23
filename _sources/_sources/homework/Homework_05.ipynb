{
  "cells": [
    {
      "cell_type": "markdown",
      "metadata": {
        "id": "2B4_wR9E7Mmv"
      },
      "source": [
        "# Homework 05: Kernel Density Estimation"
      ]
    },
    {
      "cell_type": "code",
      "execution_count": null,
      "metadata": {
        "id": "kIdyV92H7Mmx"
      },
      "outputs": [],
      "source": [
        "%matplotlib inline\n",
        "import matplotlib.pyplot as plt\n",
        "import seaborn as sns; sns.set()\n",
        "import numpy as np\n",
        "import pandas as pd\n",
        "import os.path\n",
        "import subprocess"
      ]
    },
    {
      "cell_type": "code",
      "execution_count": null,
      "metadata": {
        "id": "YgJaT4O-7Mmy"
      },
      "outputs": [],
      "source": [
        "import scipy.stats"
      ]
    },
    {
      "cell_type": "code",
      "execution_count": null,
      "metadata": {
        "id": "OJZsAQqq7Mmy"
      },
      "outputs": [],
      "source": [
        "from sklearn import neighbors, cluster"
      ]
    },
    {
      "cell_type": "markdown",
      "metadata": {
        "id": "8D3NqwG37Mmz"
      },
      "source": [
        "Helpers for Getting, Loading and Locating Data"
      ]
    },
    {
      "cell_type": "code",
      "execution_count": null,
      "metadata": {
        "id": "eXR-tzQ07Mm0"
      },
      "outputs": [],
      "source": [
        "def wget_data(url: str):\n",
        "    local_path = './tmp_data'\n",
        "    p = subprocess.Popen([\"wget\", \"-nc\", \"-P\", local_path, url], stderr=subprocess.PIPE, encoding='UTF-8')\n",
        "    rc = None\n",
        "    while rc is None:\n",
        "      line = p.stderr.readline().strip('\\n')\n",
        "      if len(line) > 0:\n",
        "        print(line)\n",
        "      rc = p.poll()\n",
        "\n",
        "def locate_data(name, check_exists=True):\n",
        "    local_path='./tmp_data'\n",
        "    path = os.path.join(local_path, name)\n",
        "    if check_exists and not os.path.exists(path):\n",
        "        raise RuxntimeError('No such data file: {}'.format(path))\n",
        "    return path"
      ]
    },
    {
      "cell_type": "code",
      "execution_count": null,
      "metadata": {
        "id": "r_MVlN7P7Mm0"
      },
      "outputs": [],
      "source": [
        "wget_data('https://raw.githubusercontent.com/illinois-dap/DataAnalysisForPhysicists/main/data/blobs_data.hf5')"
      ]
    },
    {
      "cell_type": "code",
      "execution_count": null,
      "metadata": {
        "id": "WtMzwW4e7Mm0"
      },
      "outputs": [],
      "source": [
        "blobs_data = pd.read_hdf(locate_data('blobs_data.hf5'))"
      ]
    },
    {
      "cell_type": "markdown",
      "metadata": {
        "id": "nXXIjtB97Mm8"
      },
      "source": [
        "## <span style=\"color:Orange\">Problem 1</span>"
      ]
    },
    {
      "cell_type": "markdown",
      "metadata": {
        "id": "EryAT7hb7Mm8"
      },
      "source": [
        "A density estimator should provide a probability density function $P(\\vec{x})$ that is normalized over its feature space $\\vec{x}$\n",
        "$$\n",
        "\\int d\\vec{x}\\, P(\\vec{x}) = 1 \\; .\n",
        "$$\n",
        "In this problem you will verify this normalization for KDE using two different numerical approaches for the integral.\n",
        "\n",
        "First, implement the function below to accept a 1D KDE fit object and estimate its normalization integral using the trapezoid rule with the specified grid. *Hint: the `np.trapz` function will be useful.*"
      ]
    },
    {
      "cell_type": "code",
      "execution_count": null,
      "metadata": {
        "deletable": false,
        "nbgrader": {
          "checksum": "c7c730306185db01f0a5f377b61660a4",
          "grade": false,
          "grade_id": "cell-f08e5071751cdabd",
          "locked": false,
          "schema_version": 1,
          "solution": true
        },
        "id": "6IL30MOx7Mm8"
      },
      "outputs": [],
      "source": [
        "def check_grid_normalization(fit, xlo, xhi, ngrid):\n",
        "    \"\"\"Check 1D denstity estimator fit result normlization using grid quadrature.\n",
        "\n",
        "    Parameters\n",
        "    ----------\n",
        "    fit : neighbors.KernelDensity fit object\n",
        "        Result of fit to 1D dataset.\n",
        "    xlo : float\n",
        "        Low edge of 1D integration range.\n",
        "    xhi : float\n",
        "        High edge of 1D integration range.\n",
        "    ngrid : int\n",
        "        Number of equally spaced grid points covering [xlo, xhi],\n",
        "        including both end points.\n",
        "    \"\"\"\n",
        "    # YOUR CODE HERE\n",
        "    raise NotImplementedError()"
      ]
    },
    {
      "cell_type": "code",
      "execution_count": null,
      "metadata": {
        "deletable": false,
        "editable": false,
        "nbgrader": {
          "checksum": "2ec1ffc451d8c87dc51acb674601e07b",
          "grade": true,
          "grade_id": "cell-d535958d6d6e7dc6",
          "locked": true,
          "points": 1,
          "schema_version": 1,
          "solution": false
        },
        "tags": [],
        "id": "_d14s-LI7Mm8"
      },
      "outputs": [],
      "source": [
        "# A correct solution should pass these tests.\n",
        "fit = neighbors.KernelDensity(kernel='gaussian', bandwidth=0.1).fit(blobs_data.drop(columns=['x1', 'x2']).values)\n",
        "assert np.round(check_grid_normalization(fit, 0, 15, 5), 3) == 1.351\n",
        "assert np.round(check_grid_normalization(fit, 0, 15, 10), 3) == 1.019\n",
        "assert np.round(check_grid_normalization(fit, 0, 15, 20), 3) == 0.986\n",
        "assert np.round(check_grid_normalization(fit, 0, 15, 100), 3) == 1.000\n",
        "\n",
        "fit = neighbors.KernelDensity(kernel='gaussian', bandwidth=0.1).fit(blobs_data.drop(columns=['x0', 'x2']).values)\n",
        "assert np.round(check_grid_normalization(fit, -4, 12, 5), 3) == 1.108\n",
        "assert np.round(check_grid_normalization(fit, -4, 12, 10), 3) == 0.993\n",
        "assert np.round(check_grid_normalization(fit, -4, 12, 20), 3) == 0.971\n",
        "assert np.round(check_grid_normalization(fit, -4, 12, 100), 3) == 1.000\n",
        "\n",
        "fit = neighbors.KernelDensity(kernel='gaussian', bandwidth=0.1).fit(blobs_data.drop(columns=['x0', 'x1']).values)\n",
        "assert np.round(check_grid_normalization(fit, 2, 18, 5), 3) == 1.311\n",
        "assert np.round(check_grid_normalization(fit, 2, 18, 10), 3) == 0.954\n",
        "assert np.round(check_grid_normalization(fit, 2, 18, 20), 3) == 1.028\n",
        "assert np.round(check_grid_normalization(fit, 2, 18, 100), 3) == 1.000"
      ]
    },
    {
      "cell_type": "markdown",
      "metadata": {
        "id": "ZpmY-gAT7Mm8"
      },
      "source": [
        "Next, implement the function below to estimate a multidimensional fit normalization using [Monte Carlo integration](https://en.wikipedia.org/wiki/Monte_Carlo_integration):\n",
        "$$\n",
        "\\int d\\vec{x}\\, P(\\vec{x}) \\simeq \\frac{V}{N_{mc}}\\, \\sum_{j=1}^{N_{mc}} P(\\vec{x}_j) = V \\langle P\\rangle \\; ,\n",
        "$$\n",
        "where the $\\vec{x}_j$ are uniformly distributed over the integration domain and $V$ is the integration domain volume. Note that `trapz` gives more accurate results for a fixed number of $P(\\vec{x})$ evaluations, but MC integration is much easier to generalize to higher dimensions."
      ]
    },
    {
      "cell_type": "code",
      "execution_count": null,
      "metadata": {
        "deletable": false,
        "nbgrader": {
          "checksum": "039324c2b4b3e33fe81db69b161bfb2f",
          "grade": false,
          "grade_id": "cell-6a773ed33ecb1799",
          "locked": false,
          "schema_version": 1,
          "solution": true
        },
        "id": "CKhkYLto7Mm8"
      },
      "outputs": [],
      "source": [
        "def check_mc_normalization(fit, xlo, xhi, nmc, seed=123):\n",
        "    \"\"\"Check denstity estimator fit result normlization using MC integration.\n",
        "\n",
        "    Parameters\n",
        "    ----------\n",
        "    fit : neighbors.KernelDensity fit object\n",
        "        Result of fit to arbitrary dataset of dimension D.\n",
        "    xlo : array\n",
        "        1D array of length D with low limits of integration domain along each dimension.\n",
        "    xhi : array\n",
        "        1D array of length D with high limits of integration domain along each dimension.\n",
        "    nmc : int\n",
        "        Number of random MC integration points within the domain to use.\n",
        "    \"\"\"\n",
        "    xlo = np.asarray(xlo)\n",
        "    xhi = np.asarray(xhi)\n",
        "    assert xlo.shape == xhi.shape\n",
        "    assert np.all(xhi > xlo)\n",
        "    D = len(xlo)\n",
        "    gen = np.random.RandomState(seed=seed)\n",
        "    # Use gen.uniform() in your solution, not gen.rand(), for consistent random numbers.\n",
        "    # YOUR CODE HERE\n",
        "    raise NotImplementedError()"
      ]
    },
    {
      "cell_type": "code",
      "execution_count": null,
      "metadata": {
        "deletable": false,
        "editable": false,
        "nbgrader": {
          "checksum": "276d5e5fe9b26b0e892d8f1327a6fe22",
          "grade": true,
          "grade_id": "cell-7b392286cb763415",
          "locked": true,
          "points": 1,
          "schema_version": 1,
          "solution": false
        },
        "tags": [],
        "id": "5uKCO5YA7Mm9"
      },
      "outputs": [],
      "source": [
        "##### A correct solution should pass these tests.\n",
        "fit = neighbors.KernelDensity(kernel='gaussian', bandwidth=0.1).fit(blobs_data.drop(columns=['x1', 'x2']).values)\n",
        "assert np.round(check_mc_normalization(fit, [0], [15], 10), 3) == 1.129\n",
        "assert np.round(check_mc_normalization(fit, [0], [15], 100), 3) == 1.022\n",
        "assert np.round(check_mc_normalization(fit, [0], [15], 1000), 3) == 1.010\n",
        "assert np.round(check_mc_normalization(fit, [0], [15], 10000), 3) == 0.999\n",
        "\n",
        "fit = neighbors.KernelDensity(kernel='gaussian', bandwidth=0.1).fit(blobs_data.drop(columns=['x2']).values)\n",
        "assert np.round(check_mc_normalization(fit, [0, -4], [15, 12], 10), 3) == 1.754\n",
        "assert np.round(check_mc_normalization(fit, [0, -4], [15, 12], 100), 3) == 1.393\n",
        "assert np.round(check_mc_normalization(fit, [0, -4], [15, 12], 1000), 3) == 0.924\n",
        "assert np.round(check_mc_normalization(fit, [0, -4], [15, 12], 10000), 3) == 1.019\n",
        "\n",
        "fit = neighbors.KernelDensity(kernel='gaussian', bandwidth=0.1).fit(blobs_data.values)\n",
        "assert np.round(check_mc_normalization(fit, [0, -4, 2], [15, 12, 18], 10), 3) == 2.797\n",
        "assert np.round(check_mc_normalization(fit, [0, -4, 2], [15, 12, 18], 100), 3) == 0.613\n",
        "assert np.round(check_mc_normalization(fit, [0, -4, 2], [15, 12, 18], 1000), 3) == 1.316\n",
        "assert np.round(check_mc_normalization(fit, [0, -4, 2], [15, 12, 18], 10000), 3) == 1.139"
      ]
    }
  ],
  "metadata": {
    "kernelspec": {
      "display_name": "Python 3 (ipykernel)",
      "language": "python",
      "name": "python3"
    },
    "language_info": {
      "codemirror_mode": {
        "name": "ipython",
        "version": 3
      },
      "file_extension": ".py",
      "mimetype": "text/x-python",
      "name": "python",
      "nbconvert_exporter": "python",
      "pygments_lexer": "ipython3",
      "version": "3.11.2"
    },
    "colab": {
      "provenance": []
    }
  },
  "nbformat": 4,
  "nbformat_minor": 0
}