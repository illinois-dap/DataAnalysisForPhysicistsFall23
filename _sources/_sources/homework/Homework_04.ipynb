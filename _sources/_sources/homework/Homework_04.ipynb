{
  "nbformat": 4,
  "nbformat_minor": 0,
  "metadata": {
    "colab": {
      "provenance": []
    },
    "kernelspec": {
      "name": "python3",
      "display_name": "Python 3"
    },
    "language_info": {
      "name": "python"
    }
  },
  "cells": [
    {
      "cell_type": "markdown",
      "source": [
        "**Problem 1**"
      ],
      "metadata": {
        "id": "2Po6R1bl3bvi"
      }
    },
    {
      "cell_type": "markdown",
      "source": [
        "The Large Hadron Collider (and all colliders) operate by colliding bunches of ions together (a bunch at the LHC contains more than $10^{11}$ protons).  Each proton has a very small change of hitting another one so we can think of each potential collision as independent.  Let's say that for a given setup of the LHC the average number of collisions per bunch is $\\mu$.  Write a function that determines the probability of more than one collision per bunch crossing *in the case that there is at least one collision*."
      ],
      "metadata": {
        "id": "f2u3duOT6wuQ"
      }
    },
    {
      "cell_type": "code",
      "execution_count": null,
      "metadata": {
        "id": "xOUo36i66rCU"
      },
      "outputs": [],
      "source": []
    },
    {
      "cell_type": "markdown",
      "source": [
        "**Problem 2**"
      ],
      "metadata": {
        "id": "FYT1mMOL3fKo"
      }
    },
    {
      "cell_type": "markdown",
      "source": [
        "In class, we discussed the error on the mean of a distribution.  Determining the error on higher order moments can be difficult.  A common technique is bootstrapping.  This essentially determines the error from subsamples of the data (we will talk more about these techniques later).  scipy has a nice functions for this.  Write a function that takes in an array of values and an order of a moment $n$ and determines the error on that moment.  Verify that the function works as expected for the mean by generating random samples according to a Poisson distribution of sizes 2, 5, 10, 50, 100, 500, 1000 and make a plot comparing the expected standard deviation to that from the bootstrapping method."
      ],
      "metadata": {
        "id": "RXvwLmmL8d6h"
      }
    },
    {
      "cell_type": "markdown",
      "source": [
        "**Problem 3**"
      ],
      "metadata": {
        "id": "yFIiW90-3i5u"
      }
    },
    {
      "cell_type": "markdown",
      "source": [
        "A colection of relativistic particles from a nuclear collision at the LHC are measured.  They are all created at the origin of the coordinate system and can be described by the angles $\\theta$ and $\\phi$ (the usual angles from spherical coordintates) and their energy $E$ and momenta $p$.  Write a function to determine each of the pairwise correlation coefficients between these four quantities.  Rank the pairs of quantities by the strength of their correlations.  Find the particle information to use here: https://courses.physics.illinois.edu/phys398dap/fa2023/data/particles.txt"
      ],
      "metadata": {
        "id": "0TendAdTFAAB"
      }
    }
  ]
}
