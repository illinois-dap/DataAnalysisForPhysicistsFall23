{
  "cells": [
    {
      "cell_type": "markdown",
      "metadata": {
        "id": "Baqqn0_GTJJq"
      },
      "source": [
        "**Problem 1**"
      ]
    },
    {
      "cell_type": "markdown",
      "metadata": {
        "id": "mdJ2V637VMBC"
      },
      "source": [
        "Radioactive decay of a nucleus is described as $N(t)=N_0 e^{-t/\\tau}$ where $N_0$ is the number of the nucleus in question initially and $\\tau$ is the half life of the nucleus.  $N(t)$ is the number of nuclei remaining at time $t$."
      ]
    },
    {
      "cell_type": "markdown",
      "metadata": {
        "id": "_L7zgk7ZVxfD"
      },
      "source": [
        "*Part 1* propagate the uncertainties on $N_0$ and $\\tau$ to get the corresponding uncertainty on $N(t)$ analytically using the information discussed in class."
      ]
    },
    {
      "cell_type": "markdown",
      "metadata": {
        "id": "Mt5UOeGbWGTF"
      },
      "source": []
    },
    {
      "cell_type": "markdown",
      "metadata": {
        "id": "8udjNeKlWC6O"
      },
      "source": [
        "*Part 2* Write a program that draws random numbers according to what you would expect to measure in terms of $N(t)$ as a function of time for a given$\\tau$.  Generate as many samples as you can (you can generate them and then store them to be read back in by Part 3 many times); samples at larger times will of course be more rare. For the plot purposes set $\\tau=100 s$.  Make a plot out to as large of $t$ values as possible."
      ]
    },
    {
      "cell_type": "markdown",
      "metadata": {
        "id": "W2p0VMURcBH1"
      },
      "source": [
        "*Part 3* Fit $N(t)$ using a least squares fit to get $\\tau$ and $N_0$.  Make sure to keep track of the statistical uncertainties in your *data* and your *fit*.  Do the values agree with those you set in *Part 2*?  Are $\\tau$ and $N(0)$ correlated with each other?"
      ]
    },
    {
      "cell_type": "markdown",
      "metadata": {
        "id": "qeOKwAHQchqS"
      },
      "source": [
        "**Problem 2**"
      ]
    },
    {
      "cell_type": "markdown",
      "metadata": {
        "id": "v9PZZuNYclOE"
      },
      "source": [
        "As discussed in class neutral pions decay into pairs of photons and have an invariant mass of 0.135 GeV ([more information](https://en.wikipedia.org/wiki/Pion), also note that the *charged* pion weights slightly more and does not decay into two photons).  Neutral pions are typically measured by combining pairs of photons detected in a single event.  There is not tag saying that two particular photons came from a particular pion so all pairs are made and the [invariant mass](https://en.wikipedia.org/wiki/Invariant_mass) of each pair is histogramed.  If the average number of pions in a particular event is $N$, then the average number of *pairs* in an event goes like $N^2$; so as $N$ increases the signal (number of photon pairs from a real pion) decreases relative to the background (photon pairs where each photon is from a different pion).  The signal pairs have an invariant mass that is peaked and can be described by a peak centered on 0.135 GeV and an area of $NxS$, where S is the total number of events. The background pairs have a broad distribution in invariant mass distribution without a peak.  The total distribution can  be described as the sum of these two distributions.\n",
        "\n",
        "the kinematics of photons from pion decay are available here:\n",
        "https://courses.physics.illinois.edu/phys398dap/fa2023/data/pi0s_1.txt\n",
        "https://courses.physics.illinois.edu/phys398dap/fa2023/data/pi0s_5.txt\n",
        "https://courses.physics.illinois.edu/phys398dap/fa2023/data/pi0s_25.txt\n",
        "https://courses.physics.illinois.edu/phys398dap/fa2023/data/pi0s_50.txt\n",
        "\n",
        "where the in the name \"pi0s_N.txt\" $N$ is the number of pions per event (so each event contains 2N photons).  The columns are labeled as event number, the x, y, z components of the momentum and the energy (both the momentum and energy are in units of GeV)."
      ]
    },
    {
      "cell_type": "markdown",
      "metadata": {
        "id": "BXGvq09R16Zq"
      },
      "source": [
        "*Part 1*  Using the avialable files here, create *all* pairs of photons with the same event number.  This means that you create all possible pairs of photons within the same event and you do this for each event.  If the event contains 4 photons there are six photon pairs: AB, AC, AD, BC, BD, BC (the order doesn't matter).  Two of these pairs are from real pions and 4 are combinatoric.  If you have 1000 events with 4 photons each, you have 2000 real photons and 4000 combinatoric pairs.  Some of those combinatoric pairs will have a mass near the pion mass and some will be far away.\n",
        "\n",
        "You will notice that the files contain different numbers of photons per event and this will change the ratio of pions to background pairs.  Histogram the mass distribution with an appropriate binning.  Make a plot of the mass distribution for each data set."
      ]
    },
    {
      "cell_type": "markdown",
      "metadata": {
        "id": "oYBSHsesXCBt"
      },
      "source": [
        "*Part 2* Look at the histograms.  If the mass of a photon pair is far from the pion mass, it probably didn't come from a pion.  However, if the mass is near the pion mass, either it came from a pion or it is a combinatoric pair.  Find a function to fit the invariant mass distribution.  What is the signal to background in the region of the pion mass (answering this question requires defining a region around the pion mass to calculate your signal; make sure you provide some justification for your definition)."
      ]
    },
    {
      "cell_type": "markdown",
      "metadata": {
        "id": "WlAz-Or9Xvjy"
      },
      "source": [
        "*Part 3* Find the number of pions in each of the histograms (making sure to remove the background).  How does the precision of the number of pions vary with the signal to background?  Explain what you find."
      ]
    }
  ],
  "metadata": {
    "colab": {
      "provenance": []
    },
    "kernelspec": {
      "display_name": "Python 3 (ipykernel)",
      "language": "python",
      "name": "python3"
    },
    "language_info": {
      "codemirror_mode": {
        "name": "ipython",
        "version": 3
      },
      "file_extension": ".py",
      "mimetype": "text/x-python",
      "name": "python",
      "nbconvert_exporter": "python",
      "pygments_lexer": "ipython3",
      "version": "3.9.6"
    }
  },
  "nbformat": 4,
  "nbformat_minor": 0
}
