{
  "cells": [
    {
      "cell_type": "markdown",
      "metadata": {},
      "source": [
        "# Homework 12: Time Series Analysis of Projectile Data"
      ]
    },
    {
      "cell_type": "code",
      "execution_count": null,
      "id": "d68736be-e68e-4292-a062-32be8e03aca6",
      "metadata": {
        "id": "d68736be-e68e-4292-a062-32be8e03aca6"
      },
      "outputs": [],
      "source": [
        "%matplotlib inline\n",
        "import matplotlib.pyplot as plt\n",
        "import seaborn as sns; sns.set()\n",
        "import numpy as np\n",
        "import pandas as pd\n",
        "import warnings\n",
        "warnings.filterwarnings('ignore')\n",
        "\n",
        "from statsmodels.tsa.seasonal import seasonal_decompose\n",
        "from statsmodels.tsa.ar_model import AutoReg\n",
        "from statsmodels.tsa.arima.model import ARIMA"
      ]
    },
    {
      "cell_type": "markdown",
      "id": "444e2635-771a-4a19-894a-2042042305a6",
      "metadata": {
        "id": "444e2635-771a-4a19-894a-2042042305a6"
      },
      "source": [
        "## <span style=\"color:LightGreen\">Projectile data used in this homework</span>"
      ]
    },
    {
      "cell_type": "markdown",
      "metadata": {},
      "source": [
        "Simulations of the motion of several trapezoid shaped projectiles after having been catapulted from the ground were performed using this [notebook](https://github.com/GDS-Education-Community-of-Practice/DSECOP/blob/main/Time_Series_Analysis_and_Forecasting/01_Simulating_Projectile_Motion_with_Drag.ipynb) from the APS Group on Data Science. This is an imagined scenario but takes the simple Newtonian motion of an idealized projectile and considers a more realistic scenario of varied drag.\n",
        "\n",
        "This data includes a varied drag coefficient and projectile area for four sides of the object.\n",
        "\n",
        "A large number of these runs was simulated and saved in the file `launches.csv`. We begin by loading this file of simulated launches."
      ]
    },
    {
      "cell_type": "code",
      "execution_count": null,
      "id": "e3c9a16f-abf7-4725-b211-14df81260491",
      "metadata": {
        "id": "e3c9a16f-abf7-4725-b211-14df81260491"
      },
      "outputs": [],
      "source": [
        "# Load our launch data\n",
        "data_location = \"https://raw.githubusercontent.com/GDS-Education-Community-of-Practice/DSECOP/connor_module/Time_Series_Analysis_and_Forecasting/launches.csv\"\n",
        "all_launches = pd.read_csv(data_location, index_col=\"Time (s)\")\n",
        "\n",
        "# Split into individual launches\n",
        "split_indices = np.where(all_launches.index[1:] - all_launches.index[0:-1] < 0)[0].tolist() # Find where time decreases (signifies different launch)\n",
        "split_indices = [0] + split_indices + [all_launches.shape[0]]\n",
        "launches = [all_launches.iloc[split_indices[i]+1:split_indices[i+1]] for i in range(100)]"
      ]
    },
    {
      "cell_type": "markdown",
      "id": "7e1ae5a2-9562-4542-ba2f-a50f2656977e",
      "metadata": {
        "id": "7e1ae5a2-9562-4542-ba2f-a50f2656977e"
      },
      "source": [
        "For the sake of simplicity in our time series analysis, we can consider averaging all of the runs to examine the general behavior."
      ]
    },
    {
      "cell_type": "code",
      "execution_count": null,
      "id": "87ca3e9f-804f-4dab-893d-5fa2fc8be291",
      "metadata": {
        "colab": {
          "base_uri": "https://localhost:8080/",
          "height": 406
        },
        "id": "87ca3e9f-804f-4dab-893d-5fa2fc8be291",
        "outputId": "f7a838de-32bb-458c-8ceb-c76717a1427a"
      },
      "outputs": [],
      "source": [
        "# Group by the time stamps and average\n",
        "all_launches = all_launches.groupby(all_launches.index).mean()\n",
        "\n",
        "all_launches.plot(subplots=True, layout=(2,2), figsize=(8,4))\n",
        "plt.tight_layout()\n",
        "plt.show()"
      ]
    },
    {
      "cell_type": "markdown",
      "id": "4484decb-ee2b-438c-8e37-dd2c6deb11c7",
      "metadata": {
        "id": "4484decb-ee2b-438c-8e37-dd2c6deb11c7"
      },
      "source": [
        "Now, notice that there are some strange dips in the drag coefficient and area in later times.\n",
        "If we look closely at all of the launch data, we can note that some time series are longer than others, thus the averages in later times include 0s for some series.\n",
        "\n",
        "Let's cut out series at the minimum end time for all the launches to try to resolve this issue."
      ]
    },
    {
      "cell_type": "code",
      "execution_count": null,
      "id": "afa00c8a-17f7-4fd0-9a01-1a0470146890",
      "metadata": {
        "colab": {
          "base_uri": "https://localhost:8080/",
          "height": 839
        },
        "id": "afa00c8a-17f7-4fd0-9a01-1a0470146890",
        "outputId": "905d5aa4-4c6a-4062-87b6-060f6ce21f6e"
      },
      "outputs": [],
      "source": [
        "# End time for all launches\n",
        "end_times = [launch.index.max() for launch in launches]\n",
        "\n",
        "plt.close('all')\n",
        "plt.hist(end_times)\n",
        "plt.xlabel(\"Ending time (s)\")\n",
        "plt.ylabel(\"Number of launches\")\n",
        "plt.show()\n",
        "\n",
        "# Shortest end time\n",
        "shortest_end = np.min(end_times)\n",
        "\n",
        "# Cut our launches\n",
        "our_launches = all_launches.loc[:shortest_end]\n",
        "\n",
        "our_launches.plot(subplots=True, layout=(2,2), figsize=(8,4))\n",
        "plt.tight_layout()\n",
        "plt.show()"
      ]
    },
    {
      "cell_type": "markdown",
      "metadata": {},
      "source": [
        "We now have a much more consistent approximation of drag and area."
      ]
    },
    {
      "cell_type": "markdown",
      "metadata": {},
      "source": [
        "## <span style=\"color:LightGreen\">General concepts for time series</span>"
      ]
    },
    {
      "cell_type": "markdown",
      "id": "642a2027-2980-4582-8a60-af5926c76da0",
      "metadata": {
        "id": "642a2027-2980-4582-8a60-af5926c76da0"
      },
      "source": [
        "Time series analysis is just the analysis of data that has been collected over a range of time.\n",
        "However, due to its importance in fields such as weather, stock markets, geophysics, signal processing, and econometrics, it has developed a unique terminology and specific methods tailored to time dependent data."
      ]
    },
    {
      "cell_type": "markdown",
      "metadata": {},
      "source": [
        "### <span style=\"color:LightBlue\">Basic concepts"
      ]
    },
    {
      "cell_type": "markdown",
      "id": "3a2a794d-07f7-42da-bd2e-f8df9dd4b1a6",
      "metadata": {
        "id": "3a2a794d-07f7-42da-bd2e-f8df9dd4b1a6"
      },
      "source": [
        "Some of the basic ideas that are of interest in time series data are the following:\n",
        "- ___<span style=\"color:Violet\">Trends</span>___: Is there a general direction of the data?\n",
        "\n",
        "- ___<span style=\"color:Violet\">Seasonality</span>:___ Is there a trend that repeats itself on a fixed schedule?\n",
        "\n",
        "- ___<span style=\"color:Violet\">Cyclical component</span>:___ Is there a trend that repeats itself outside of a fixed schedule?\n",
        "\n",
        "- ___<span style=\"color:Violet\">Irregular variation</span>___: Are there unpredictable and erratic variations in the data?\n",
        "\n",
        "- ___<span style=\"color:Violet\">Autocorrelation</span>___: Are observations at a point in time usually similar to observations at a previous point of time (e.g. an observation at time $t$ is always similar to an observation at $t-1$)? This is true if the data has an element of seasonality, but can also be true without seasonality.\n",
        "\n",
        "Several of these can be illustrated [here](https://www.section.io/engineering-education/introduction-to-time-series/img.jpg) as is shown below ![](https://www.section.io/engineering-education/introduction-to-time-series/img.jpg)\n"
      ]
    },
    {
      "cell_type": "markdown",
      "metadata": {},
      "source": [
        "### <span style=\"color:LightBlue\">Seasonality of data</span>"
      ]
    },
    {
      "cell_type": "markdown",
      "id": "c5a7efc5-352d-4d28-987d-3520b3a8f85f",
      "metadata": {
        "id": "c5a7efc5-352d-4d28-987d-3520b3a8f85f"
      },
      "source": [
        "With the above vocabulary in mind, it is common to consider an **ETS decomposition** of the data which is to separate the error, trend, and seasonality of the data.\n",
        "There are two common formats for this separation:\n",
        "1. ___<span style=\"color:Violet\">Multiplicative</span>___: data = error $\\times$ trend $\\times$ seasonality\n",
        "\n",
        "2. ___<span style=\"color:Violet\">Additive</span>___: data = error $+$ trend $+$ seasonality\n",
        "\n",
        "The python packages `statsmodels.tsa` contains many time series analysis tools, including some for this decomposition:"
      ]
    },
    {
      "cell_type": "code",
      "execution_count": null,
      "id": "41ef05d0-74ea-4e8e-9b26-55066ae6d4d8",
      "metadata": {
        "colab": {
          "base_uri": "https://localhost:8080/",
          "height": 501
        },
        "id": "41ef05d0-74ea-4e8e-9b26-55066ae6d4d8",
        "outputId": "e94b1244-e6a2-4f00-a986-c5ad1e09870f"
      },
      "outputs": [],
      "source": [
        "test_launch = launches[20]\n",
        "\n",
        "# Separate error trend and seasonality in additive\n",
        "plt.close('all')\n",
        "seasonal_decompose(test_launch['Distance (m)'], model='additive',period=10).plot().suptitle(\"Additive\",y=1)\n",
        "plt.tight_layout()\n",
        "plt.show()\n"
      ]
    },
    {
      "cell_type": "markdown",
      "id": "88139aa1-414c-49cb-8db1-4c718a5c7ea8",
      "metadata": {
        "id": "88139aa1-414c-49cb-8db1-4c718a5c7ea8"
      },
      "source": [
        "Now, this decomposition was done for the distance data, which has a very obvious trend (distance increases with time).\n",
        "The seasonality of the data is almost none existant (see the scale on the y-axis and just look at the data).\n",
        "As a result, there may not be much of a use for this decomposition for this variable.\n",
        "\n",
        "The `resid` plot represents the \"residual error,\" or the error component of the decomposition meaning how much of the data is not accounted for after removing the trend and seasonal components.\n",
        "Though the size of this error is not particularly important for our current case, we don't want it to have any noticeable pattern, as this would indicate that it is not erratic and unpredictable error but a missing trend or season.\n",
        "\n",
        "However, it may be better to consider a variable such as the drag coefficient (which we know has a set rotation and thus some seasonality)."
      ]
    },
    {
      "cell_type": "code",
      "execution_count": null,
      "id": "7e2d6059-65fc-4137-95a3-4383f38a2751",
      "metadata": {
        "colab": {
          "base_uri": "https://localhost:8080/",
          "height": 501
        },
        "id": "7e2d6059-65fc-4137-95a3-4383f38a2751",
        "outputId": "49de6653-7b45-4799-95ab-0418be4ded2d"
      },
      "outputs": [],
      "source": [
        "# Separate error trend and seasonality in additive form\n",
        "plt.close('all')\n",
        "seasonal_decompose(test_launch['Drag coefficient'], model='additive',period=10).plot().suptitle(\"Additive\",y=1)\n",
        "plt.tight_layout()\n",
        "plt.show()"
      ]
    },
    {
      "cell_type": "markdown",
      "metadata": {},
      "source": [
        "Note that we arent capturing well the seasonality, so we should adjust the `period` parameter (which represents the hypothesized length of the season in time points)."
      ]
    },
    {
      "cell_type": "markdown",
      "metadata": {},
      "source": [
        "## <span style=\"color:Orange\">Problem 1</span>"
      ]
    },
    {
      "cell_type": "markdown",
      "id": "a6df9bef-80d8-4e1c-ab5b-9302d38b374d",
      "metadata": {
        "id": "a6df9bef-80d8-4e1c-ab5b-9302d38b374d"
      },
      "source": [
        "Adjust the `period` parameter of the additive decomposition to capture the seasonality (i.e. the trend line is more flat and the seasonality curve looks like the peaks and valleys of the data) and remake the last plot above with this update. "
      ]
    },
    {
      "cell_type": "code",
      "execution_count": null,
      "id": "a6c12396-92d6-41de-9f5d-401976d6c6a5",
      "metadata": {
        "colab": {
          "base_uri": "https://localhost:8080/",
          "height": 501
        },
        "id": "a6c12396-92d6-41de-9f5d-401976d6c6a5",
        "outputId": "953a7301-725b-4ddd-fe1d-3588760ad249"
      },
      "outputs": [],
      "source": [
        "# YOUR CODE HERE\n",
        "raise NotImplementedError()"
      ]
    },
    {
      "cell_type": "markdown",
      "metadata": {},
      "source": [
        "Note that the season cannot be longer than the data itself. You should also note the scale on the y-axes of the plots (for example, if the trend still looks somewhat periodic but the y-axis is limited to a very small range, that periodicity is not actually very present).\n",
        "We also expect a small value for the residual and it shouldn't have any notable patterns."
      ]
    },
    {
      "cell_type": "markdown",
      "id": "95a2b776-0a9a-4055-afac-af8abd4bacf8",
      "metadata": {
        "id": "95a2b776-0a9a-4055-afac-af8abd4bacf8"
      },
      "source": [
        "Now that we have captured the seasonality, the trend actually seems somewhat nonexistant - the drag coefficient isn't increasing or decreasing over time.\n",
        "This is what we expect as we know that the object is rotating at a constant rate.\n",
        "\n",
        "Let's consider the multiplicative decomposition as a comparison."
      ]
    },
    {
      "cell_type": "code",
      "execution_count": null,
      "id": "37a72a58-ff99-4d4d-9c14-cbf65340258a",
      "metadata": {
        "colab": {
          "base_uri": "https://localhost:8080/",
          "height": 501
        },
        "id": "37a72a58-ff99-4d4d-9c14-cbf65340258a",
        "outputId": "359b600a-ceb5-4958-fcb2-b0789551e4be"
      },
      "outputs": [],
      "source": [
        "# Separate error trend and seasonality in multiplicative decomposition\n",
        "plt.close('all')\n",
        "seasonal_decompose(test_launch['Drag coefficient'], model='multiplicative',period=20).plot().suptitle(\"Multiplicative\",y=1)\n",
        "plt.tight_layout()\n",
        "plt.show()"
      ]
    },
    {
      "cell_type": "markdown",
      "id": "a41431f9-b0c8-46f2-86a8-afc627e47c57",
      "metadata": {
        "id": "a41431f9-b0c8-46f2-86a8-afc627e47c57"
      },
      "source": [
        "You can see that both decompositions are similar.\n",
        "The main difference between them is the `resid` plot.\n",
        "Let's stick with the additive decomposition because the residual is significantly smaller."
      ]
    },
    {
      "cell_type": "markdown",
      "metadata": {},
      "source": [
        "### <span style=\"color:LightBlue\">Automatically determining seasonality</span>"
      ]
    },
    {
      "cell_type": "markdown",
      "metadata": {},
      "source": [
        "Now, although we just changed the `period` above until we found a good match, we could instead use a test for the seasonality of the data.\n",
        "To do so, consider the \"autocorrelation\" or the relation of values at a certain point in time with values at fixed amounts of time before."
      ]
    },
    {
      "cell_type": "code",
      "execution_count": null,
      "id": "36c7ebeb-2395-4f6e-930a-d611687c9106",
      "metadata": {
        "colab": {
          "base_uri": "https://localhost:8080/",
          "height": 455
        },
        "id": "36c7ebeb-2395-4f6e-930a-d611687c9106",
        "outputId": "764fd9bd-42f5-457b-ac07-ee497670116e"
      },
      "outputs": [],
      "source": [
        "# Use pandas autocorrelation plot\n",
        "plt.close('all')\n",
        "pd.plotting.autocorrelation_plot(test_launch[\"Drag coefficient\"])\n",
        "plt.show()"
      ]
    },
    {
      "cell_type": "markdown",
      "id": "9cc85701-9fb0-4124-a8cf-6384e86129c9",
      "metadata": {
        "id": "9cc85701-9fb0-4124-a8cf-6384e86129c9"
      },
      "source": [
        "In this plot, it shows the relationship between observations at a given point in time with those a certain amount of time before (lag).\n",
        "So, this plot tells us that the values seem to be positively correlated (similar) with those at specific points before (namely, 10, 20, 30, ... time points before).\n",
        "This matches our results and makes sense in relation to the rotation of our object, which changes sides every 5 time points, thus arriving back at a side every 20!\n",
        "The only reason this isn't perfectly apparent in the seasonality of the data is because of the added noise.\n",
        "\n",
        "----"
      ]
    },
    {
      "cell_type": "markdown",
      "id": "738e9dea-f72f-486d-a1e0-cb6bbf54e453",
      "metadata": {
        "id": "738e9dea-f72f-486d-a1e0-cb6bbf54e453"
      },
      "source": [
        "## <span style=\"color:LightGreen\">Smoothing</span>\n"
      ]
    },
    {
      "cell_type": "markdown",
      "metadata": {},
      "source": [
        "Even after decomposing our data to see trends and seasonality, there is still some erratic error in the variables.\n",
        "\"Smoothing\" out this erratic behavior in the data is a key strategy in time series analysis.\n"
      ]
    },
    {
      "cell_type": "markdown",
      "id": "369837d0-d09a-499a-9c07-11d2c726738b",
      "metadata": {
        "id": "369837d0-d09a-499a-9c07-11d2c726738b"
      },
      "source": [
        "### <span style=\"color:LightBlue\">Moving average</span>"
      ]
    },
    {
      "cell_type": "markdown",
      "metadata": {},
      "source": [
        "The most common approach to this is the \"moving average\" which considers the next observation as the mean of the previous $k$ points:\n",
        "$$ \\Large\n",
        "y_{i} = \\frac{1}{k}\\sum_{j=1}^k y_{i-j}\n",
        "$$\n",
        "The `pandas` library has a convenient function `rolling` which can select a rolling window of $k$ that we can then average."
      ]
    },
    {
      "cell_type": "code",
      "execution_count": null,
      "id": "03280c40-cd81-48d9-b8f0-f82ec951ea42",
      "metadata": {
        "colab": {
          "base_uri": "https://localhost:8080/",
          "height": 449
        },
        "id": "03280c40-cd81-48d9-b8f0-f82ec951ea42",
        "outputId": "39ddccf8-59c3-413e-c7cf-a00dc61d1f49"
      },
      "outputs": [],
      "source": [
        "# Number of previous points to use in averaging\n",
        "k = 6\n",
        "\n",
        "# Plot\n",
        "plt.close('all')\n",
        "test_launch['Drag coefficient'].plot(label=\"Data\")\n",
        "test_launch['Drag coefficient'].rolling(k).mean().plot(label=\"Moving average\")\n",
        "plt.ylabel(\"Drag coefficient\")\n",
        "plt.legend()\n",
        "plt.show()"
      ]
    },
    {
      "cell_type": "markdown",
      "id": "ca24efea-f444-4348-a7c5-5d1122340fc5",
      "metadata": {
        "id": "ca24efea-f444-4348-a7c5-5d1122340fc5"
      },
      "source": [
        "Because the moving average is using $k$ points _BEFORE_ the point, we can see that it has shifted the peaks of our data slightly over in time.\n",
        "Using only previous points can be necessary if we are looking to predict future values (which we will discuss in the next notebook), but as we are just analyzing previously collected data, we can add the `center=True` parameter to the rolling window collection to consider $k$ points _AROUND_ the point."
      ]
    },
    {
      "cell_type": "code",
      "execution_count": null,
      "id": "f27fb9aa-fbde-4683-a605-53d708156fa3",
      "metadata": {
        "colab": {
          "base_uri": "https://localhost:8080/",
          "height": 449
        },
        "id": "f27fb9aa-fbde-4683-a605-53d708156fa3",
        "outputId": "9e7f1efa-3dc9-476b-b04d-5ee7f27f6621"
      },
      "outputs": [],
      "source": [
        "plt.close('all')\n",
        "test_launch['Drag coefficient'].plot(label=\"Data\")\n",
        "test_launch['Drag coefficient'].rolling(k,center=True).mean().plot(label=\"Moving average\")\n",
        "plt.ylabel(\"Drag coefficient\"); plt.legend()\n",
        "plt.show()"
      ]
    },
    {
      "cell_type": "markdown",
      "id": "6ff395c6-0e93-4ba1-97ef-3b5f5e6f2a82",
      "metadata": {
        "id": "6ff395c6-0e93-4ba1-97ef-3b5f5e6f2a82"
      },
      "source": [
        "This smoothing looks fairly reasonable.\n",
        "But notice that each large peak in the data is followed by a smaller peak, which is entirely smoothed out by the moving average.\n",
        "Maybe we could use a smoothing that can better keep these smaller features without sacrificing too much smoothing."
      ]
    },
    {
      "cell_type": "markdown",
      "metadata": {},
      "source": [
        "### <span style=\"color:LightBlue\">Exponential smoothing</span>"
      ]
    },
    {
      "cell_type": "markdown",
      "id": "b5040b7c-bd23-4899-8cf5-b1b56c0b3d3c",
      "metadata": {
        "id": "b5040b7c-bd23-4899-8cf5-b1b56c0b3d3c"
      },
      "source": [
        "In the moving average smoothing, it is interesting that it takes an equally weighted average of all $k$ points previous.\n",
        "It would maybe be more reasonable to consider that more recent occurences were more influential and should have more \"weight\" or consideration in choosing the next point.\n",
        "This is the idea of \"exponential smoothing.\"\n",
        "\n",
        "For this, we weight the points by how recent they occurred:\n",
        "\n",
        "$$ \\Large\n",
        "\\hat{y}_i = \\alpha ~y_i + (1-\\alpha)~\\hat{y}_{i-1}\n",
        "$$\n",
        "\n",
        "The smaller the value of $0 \\leq \\alpha \\leq 1$, the more previous points are included, i.e. the smoother the data.\n",
        "\n",
        "Again, the `pandas` package has a function `ewm` that can provide exponentially weighted observations from our series."
      ]
    },
    {
      "cell_type": "code",
      "execution_count": null,
      "id": "1b34ca66-7ac7-49ca-99f0-5d8af38fff7b",
      "metadata": {
        "colab": {
          "base_uri": "https://localhost:8080/",
          "height": 449
        },
        "id": "1b34ca66-7ac7-49ca-99f0-5d8af38fff7b",
        "outputId": "c7487f4b-9205-437e-c788-fa9c1d6e935f"
      },
      "outputs": [],
      "source": [
        "# Exponentially weight our data\n",
        "alpha = .4\n",
        "\n",
        "plt.close('all')\n",
        "test_launch['Drag coefficient'].plot()\n",
        "test_launch['Drag coefficient'].ewm(alpha=alpha).mean().plot()\n",
        "plt.show()"
      ]
    },
    {
      "cell_type": "markdown",
      "id": "d857edeb-c1c8-44e7-a512-c994c6ddb844",
      "metadata": {
        "id": "d857edeb-c1c8-44e7-a512-c994c6ddb844"
      },
      "source": [
        "Compared to the moving average, this method seems to keep some of the smaller features.\n",
        "Notably, the smaller peak has survived the smoothing!"
      ]
    },
    {
      "cell_type": "markdown",
      "id": "f9d72730-5979-4eef-8cda-ca901065e05c",
      "metadata": {
        "id": "f9d72730-5979-4eef-8cda-ca901065e05c"
      },
      "source": [
        "## <span style=\"color:LightGreen\">Stationarity"
      ]
    },
    {
      "cell_type": "markdown",
      "metadata": {},
      "source": [
        "The property of \"stationarity\" is very important in time series analysis and modeling.\n",
        "A \"stationary\" series is one in which the mean and variance are constant and the series is time-invariant.\n",
        "Let's go through each of these points individually."
      ]
    },
    {
      "cell_type": "markdown",
      "id": "76b2e194-9595-4e84-a099-b7a260d2ef93",
      "metadata": {
        "id": "76b2e194-9595-4e84-a099-b7a260d2ef93"
      },
      "source": [
        "### <span style=\"color:LightBlue\">Constant mean</span>\n",
        "\n",
        "If the mean of the series is constant, it does not have a general trend.\n",
        "Let's compare this in our series by looking at the mean of the distance over time and the drag coefficient.\n",
        "To do so, assume we have $N$ points in time.\n",
        "We look at the mean of our series $u$ through time by considering the sample means:\n",
        "\n",
        "$$ \\Large\n",
        "\\hat{u}_k = \\frac{1}{k}\\sum_{i=1}^k u\n",
        "$$\n",
        "\n",
        "where $1 \\leq k \\leq N$.\n",
        "So, we are really looking at the average of all the subseries of length $k$ starting from the first point for our series of length $N$."
      ]
    },
    {
      "cell_type": "code",
      "execution_count": null,
      "id": "bb75e403-1561-4023-a061-01dd7ff888a3",
      "metadata": {
        "colab": {
          "base_uri": "https://localhost:8080/",
          "height": 311
        },
        "id": "bb75e403-1561-4023-a061-01dd7ff888a3",
        "outputId": "38cd3676-e8fd-435c-97d0-034e8e233e6b"
      },
      "outputs": [],
      "source": [
        "# Iterate the subseries length k\n",
        "averages = []\n",
        "for k in range(1,len(test_launch)):\n",
        "    # Average all points up to time point k\n",
        "    averages.append(test_launch.iloc[:k].mean())\n",
        "\n",
        "# Plot the average over time for distance and drag coefficient\n",
        "distance_means = [average['Distance (m)'] for average in averages]\n",
        "drag_means = [average['Drag coefficient'] for average in averages]\n",
        "\n",
        "plt.close('all')\n",
        "fig = plt.figure(figsize=(10,3))\n",
        "plt.plot(test_launch.index[1:], distance_means / np.max(distance_means), label=\"Distance\")\n",
        "plt.plot(test_launch.index[1:], drag_means / np.max(drag_means), label=\"Drag coefficient\")\n",
        "plt.legend()\n",
        "plt.xlabel(\"Time (s)\")\n",
        "plt.ylabel(\"Average of $k$ series (normalized)\")\n",
        "plt.show()"
      ]
    },
    {
      "cell_type": "markdown",
      "id": "c505c313-46d5-4f54-aeb1-ed8f931ed1fa",
      "metadata": {
        "id": "c505c313-46d5-4f54-aeb1-ed8f931ed1fa"
      },
      "source": [
        "In comparing these two plots, it is apparent that the drag coefficient is much more stationary than the distance.\n",
        "This is very intuitive as the distance is an increasing quantity (the projectile just keeps going further) while the drag coefficient is periodic around some specific values.\n",
        "\n",
        "Note that the avaerages were \"normalized\" (divided by the maximum average) in order to make them comparable in size to each other."
      ]
    },
    {
      "cell_type": "markdown",
      "metadata": {},
      "source": [
        "### <span style=\"color:LightBlue\">Constant variance</span>"
      ]
    },
    {
      "cell_type": "markdown",
      "id": "39cd46bf-4eca-48a4-a0e8-aae9d5bd6ea8",
      "metadata": {
        "id": "39cd46bf-4eca-48a4-a0e8-aae9d5bd6ea8"
      },
      "source": [
        "If the variance of the series is constant, the size of the seasonal peaks are constant through time.\n",
        "Let's compare this in our series by looking at the variance of the height and the area over time.\n",
        "This would be to consider the sample variance $\\sigma$:\n",
        "\n",
        "$$ \\Large\n",
        "\\sigma_k = \\frac{1}{k}\\sum_{i=2}^k (u - \\hat{u}_k)\n",
        "$$\n",
        "\n",
        "for $2 \\leq k \\leq N$."
      ]
    },
    {
      "cell_type": "markdown",
      "metadata": {},
      "source": [
        "## <span style=\"color:Orange\">Problem 2</span>"
      ]
    },
    {
      "cell_type": "markdown",
      "id": "0fd17b50-ffad-45d1-8343-d545510dc15d",
      "metadata": {
        "id": "0fd17b50-ffad-45d1-8343-d545510dc15d"
      },
      "source": [
        "Repeat the procedure used to compare the mean through time (last plot above) but use instead a calculation of the variance at each point and all previous points through time."
      ]
    },
    {
      "cell_type": "code",
      "execution_count": null,
      "id": "bc944813-a4be-4f9e-bd17-40ea5c686011",
      "metadata": {
        "colab": {
          "base_uri": "https://localhost:8080/",
          "height": 311
        },
        "id": "bc944813-a4be-4f9e-bd17-40ea5c686011",
        "outputId": "7db37e92-036e-4e60-bfad-ebb20eed7488"
      },
      "outputs": [],
      "source": [
        "# YOUR CODE HERE\n",
        "raise NotImplementedError()"
      ]
    },
    {
      "cell_type": "markdown",
      "metadata": {},
      "source": [
        "Discuss whether the results demonstrate stationarity of the data for the test launch (answer in the cell below)."
      ]
    },
    {
      "cell_type": "markdown",
      "metadata": {},
      "source": []
    },
    {
      "cell_type": "markdown",
      "id": "a97cc1d8-0209-436a-a3f8-933ba00ff944",
      "metadata": {
        "id": "a97cc1d8-0209-436a-a3f8-933ba00ff944"
      },
      "source": [
        "Although the stationarity is not as clear in the variance (note for example that it takes some time for the area variance to level off), they both have some element of stationarity to them.\n",
        "Of course the variance at the beginning is small for both because there are few sample points, but as time goes on, the seasonal peaks for both are quite stable.\n",
        "The height is not actually seasonal, but according to the data, it increases and then returns to zero, so it could have a period the same length as the trajectory."
      ]
    },
    {
      "cell_type": "markdown",
      "metadata": {},
      "source": [
        "### <span style=\"color:LightBlue\">Time-invariance"
      ]
    },
    {
      "cell_type": "markdown",
      "id": "a6bbac82-45be-4104-a570-fbed79420a07",
      "metadata": {
        "id": "a6bbac82-45be-4104-a570-fbed79420a07"
      },
      "source": [
        "If the series is time-invariant, the seasonality of the series follows the same period through time.\n",
        "This is not easily observable in our data, but would be easily so if, for example, our object increased or decreased its rotation throughout its trajectory (a very reasonable assumption).\n",
        "\n",
        "Even so, let's compare again the period of seasonality over time for our distance and for our drag coefficient over time.\n",
        "\n",
        "To do so, we will calculate the period of seasonality for the length $k$ subseries using the autocorrelation as was shown in [the section on automatically finding seasonality](#Automatically-determining-seasonality).\n",
        "With this, we can determine the lag with the maximum autocorrelation and assume that is our period for the length $k$ subseries."
      ]
    },
    {
      "cell_type": "code",
      "execution_count": null,
      "id": "7f3f8db0-27e9-4f53-a737-191439a49ceb",
      "metadata": {
        "colab": {
          "base_uri": "https://localhost:8080/",
          "height": 311
        },
        "id": "7f3f8db0-27e9-4f53-a737-191439a49ceb",
        "outputId": "f4ff9a55-6ba0-4bcf-e16c-efb8c769afbd"
      },
      "outputs": [],
      "source": [
        "# Iterate the subseries length k\n",
        "distance_periods = []\n",
        "drag_periods = []\n",
        "for k in range(2,len(test_launch)):\n",
        "    # Find period for subseries time point k\n",
        "    dist_autocorr = pd.plotting.autocorrelation_plot(test_launch['Distance (m)'].iloc[:k])\n",
        "    distance_periods.append(dist_autocorr.get_lines()[-1].get_data()[1][1:].argmax()+1)\n",
        "    drag_autocorr = pd.plotting.autocorrelation_plot(test_launch['Drag coefficient'].iloc[:k])\n",
        "    drag_periods.append(drag_autocorr.get_lines()[-1].get_data()[1][1:].argmax()+1)\n",
        "\n",
        "# Plot the periods over time for distance and drag coefficient\n",
        "plt.close('all')\n",
        "fig = plt.figure(figsize=(10,3))\n",
        "plt.plot(test_launch.index[2:], distance_periods, label=\"Distance\")\n",
        "plt.plot(test_launch.index[2:], drag_periods, label=\"Drag coefficient\")\n",
        "plt.legend()\n",
        "plt.xlabel(\"Time (s)\")\n",
        "plt.ylabel(\"Period of $k$ series\")\n",
        "plt.show()"
      ]
    },
    {
      "cell_type": "markdown",
      "id": "0f218659-0bda-4c37-8ff8-e0dbb9bebd90",
      "metadata": {
        "id": "0f218659-0bda-4c37-8ff8-e0dbb9bebd90"
      },
      "source": [
        "It is apparent that neither the distance or drag coefficient data is time invariant.\n",
        "Both have the strongest autocorrelation with lag 1, which basically indicates no periodicity.\n",
        "There are moments when the drag coefficient shows its periodicity, but that is not constantly visible for subseries of different lengths.\n",
        "\n",
        "This is not too big of a problem, but is insightful."
      ]
    },
    {
      "cell_type": "markdown",
      "metadata": {},
      "source": [
        "### <span style=\"color:LightBlue\">Why stationarity is good and how to get it"
      ]
    },
    {
      "cell_type": "markdown",
      "id": "35078fbd-3f6c-4570-9d91-6cbbe9f12dd0",
      "metadata": {
        "id": "35078fbd-3f6c-4570-9d91-6cbbe9f12dd0"
      },
      "source": [
        "The key advantage to having a stationary system is that it allows for better forecasting of future events.\n",
        "If the mean and variance are constant through time and the series is time-invariant, it basically means that the series is very consitent, making for easy prediction of the future.\n",
        "\n",
        "As we've seen above, many series do not satisify this property.\n",
        "However, it is common to manipulate the series to try to introduce some level of stationarity.\n",
        "\n",
        "One simple way to try to enforce stationarity is to subtract a previous lag point that equals the seasonal period from each data point.\n",
        "Let's consider our distance variable, which follows a very consistent trend upward.\n",
        "If we take each point and subtract the previous point, we are now only looking at the amount of movement between each time point, which should be much more constant."
      ]
    },
    {
      "cell_type": "code",
      "execution_count": null,
      "id": "a776f753-2e6a-4a6b-98ed-d7912a7f8528",
      "metadata": {
        "colab": {
          "base_uri": "https://localhost:8080/",
          "height": 449
        },
        "id": "a776f753-2e6a-4a6b-98ed-d7912a7f8528",
        "outputId": "4b52f0ca-65be-4590-df82-ba4eacde8a60"
      },
      "outputs": [],
      "source": [
        "# Subtract the previous point from each point in our distance\n",
        "stationary_distance = test_launch[\"Distance (m)\"] - test_launch[\"Distance (m)\"].shift()\n",
        "\n",
        "plt.close('all')\n",
        "stationary_distance.plot()\n",
        "plt.show()"
      ]
    },
    {
      "cell_type": "markdown",
      "id": "911c02b0-975e-4855-b897-4ba91d3845e2",
      "metadata": {
        "id": "911c02b0-975e-4855-b897-4ba91d3845e2"
      },
      "source": [
        "We can see that the series is now centered around 0 and has peaks and valleys of roughly the same height and period through time!\n",
        "Great!\n",
        "\n",
        "Let's try with a variable that has much more seasonality such as the area of our object."
      ]
    },
    {
      "cell_type": "code",
      "execution_count": null,
      "id": "5f7243dc-92dd-48de-be5f-e8f07e1c5f7b",
      "metadata": {
        "colab": {
          "base_uri": "https://localhost:8080/",
          "height": 449
        },
        "id": "5f7243dc-92dd-48de-be5f-e8f07e1c5f7b",
        "outputId": "6af704d4-b92e-49d9-b07e-976ed6a026c9"
      },
      "outputs": [],
      "source": [
        "# Subtract the previous point from each point in our distance\n",
        "stationary_area = test_launch[\"Projectile area (m^2)\"] - test_launch[\"Projectile area (m^2)\"].shift()\n",
        "\n",
        "plt.close('all')\n",
        "stationary_area.plot()\n",
        "plt.show()"
      ]
    },
    {
      "cell_type": "markdown",
      "id": "cb06f00e-0c10-419e-be64-f37e60e4d45c",
      "metadata": {
        "id": "cb06f00e-0c10-419e-be64-f37e60e4d45c"
      },
      "source": [
        "In this case, it seems that there are still some notable patterns for peaks throughout the series, i.e. still some seasonality in the data (notice there is a peak about every 2 seconds).\n",
        "Remember from earlier that the period of the area and drag data is about 20 time steps.\n",
        "Let's take the difference of our data with the point 20 time steps before to match our seasonality and see if that helps."
      ]
    },
    {
      "cell_type": "code",
      "execution_count": null,
      "id": "301e8349-c85c-4be8-a230-f47787d64dbf",
      "metadata": {
        "colab": {
          "base_uri": "https://localhost:8080/",
          "height": 449
        },
        "id": "301e8349-c85c-4be8-a230-f47787d64dbf",
        "outputId": "ebc7cb56-4887-4104-8179-8d98ab894672"
      },
      "outputs": [],
      "source": [
        "# Subtract the previous point from each point in our distance\n",
        "stationary_area = test_launch[\"Projectile area (m^2)\"] - test_launch[\"Projectile area (m^2)\"].shift(periods=20)\n",
        "\n",
        "plt.close('all')\n",
        "stationary_area.plot()\n",
        "plt.show()"
      ]
    },
    {
      "cell_type": "markdown",
      "id": "c7e50dca-2452-4247-9a49-b54458a14b49",
      "metadata": {
        "id": "c7e50dca-2452-4247-9a49-b54458a14b49"
      },
      "source": [
        "This now looks much more stationary (no longer has any seasonality patterns or trends).\n",
        "\n",
        "---"
      ]
    },
    {
      "cell_type": "markdown",
      "metadata": {},
      "source": [
        "## <span style=\"color:LightGreen\">Forecasting</span>"
      ]
    },
    {
      "cell_type": "markdown",
      "id": "47cc695c-6aef-4256-abe1-59a9fa740166",
      "metadata": {
        "id": "47cc695c-6aef-4256-abe1-59a9fa740166"
      },
      "source": [
        "A major topic in time series analysis is forecasting future data.\n",
        "For example, if we work for a store that wants to make sure they are well stocked to meet demand for certain products, being able to predict how much of each product is needed in the future is very helpful.\n",
        "In the context of physical systems, predicting future states of a system is the gold standard of good modeling and demonstrates that the most important phenomena have been captured."
      ]
    },
    {
      "cell_type": "markdown",
      "metadata": {},
      "source": [
        "### <span style=\"color:LightBlue\">Autoregression</span>"
      ]
    },
    {
      "cell_type": "markdown",
      "metadata": {},
      "source": [
        "The general idea for time series forecasting is to try to take previous time points and somehow combine them to calculate future points.\n",
        "Mathematically, this could be written simply as:\n",
        "$$ \\Large\n",
        "u(t_{i}) = f(u(t_{i-1}),u(t_{i-2}),...)\n",
        "$$\n",
        "where $u(t_i)$ is our data at some time $t_i$ and $f$ is some function that combines all the previous data points.\n",
        "\n",
        "If we were given stationary data (or almost stationary), it might be a reasonable assumption to just average the previous points since the average won't change over time.\n",
        "However, the function $f$ is most commonly considered to be linear:\n",
        "$$ \\Large\n",
        "u(t_i) = f = \\sum_{j=1}^i b_j u(t_{j})\n",
        "$$\n",
        "where $b_j$ are \"weights\" for the data points.\n",
        "This is intuitive to imagine.\n",
        "Consider forecasting sales of a product in September.\n",
        "Wouldn't the sales in August likely be more important than those in January?\n",
        "With this in mind, we can give more \"weight\" to the August point than the January one.\n",
        "\n",
        "This assumption gives rise to the first forecasting model we'll consider called an \"autoregressive\" or AR model.\n",
        "It is written as\n",
        "$$ \\Large\n",
        "u(t_i) = f_{\\text{AR}} = \\epsilon_i + \\sum_{j=1}^p b_j u(t_{i-j})\n",
        "$$\n",
        "where $\\epsilon_i$ is some error term and $p$ determines how far back in time you want to consider.\n",
        "Notice that the only variable to choose here is the lag $p$.\n",
        "\n",
        "We can try this simple model using the Python `statsmodels.tsa` time series analysis package.\n",
        "For example, let's predict the second quarter of the distance variable in our test launch.\n",
        "We choose the `lags` parameter as the number of points $p$ we would like to consider."
      ]
    },
    {
      "cell_type": "code",
      "execution_count": null,
      "id": "e8b90efb-c500-4761-a5b6-28d2384eba34",
      "metadata": {
        "colab": {
          "base_uri": "https://localhost:8080/",
          "height": 512
        },
        "id": "e8b90efb-c500-4761-a5b6-28d2384eba34",
        "outputId": "342275de-0eaa-4c00-cb68-3d41f09cd502"
      },
      "outputs": [],
      "source": [
        "# Create the model\n",
        "half_distance = test_launch[\"Distance (m)\"].iloc[:33]\n",
        "half_height = test_launch[\"Height (m)\"].iloc[:33]\n",
        "ar = AutoReg(half_distance, lags=5)\n",
        "\n",
        "# Find the coefficients b_j\n",
        "ar_fitted = ar.fit()\n",
        "\n",
        "# Predict the next steps\n",
        "predicted_distance = ar.predict(ar_fitted.params, start=len(half_distance), end=2*len(half_distance)-1)\n",
        "data_distance = test_launch[\"Distance (m)\"].iloc[33:]\n",
        "data_height = test_launch[\"Height (m)\"].iloc[33:]\n",
        "\n",
        "# Plot the true distance and the predicted\n",
        "plt.close('all')\n",
        "plt.figure(figsize=(10,4))\n",
        "plt.scatter(half_distance, half_height, label=\"Input\")\n",
        "plt.scatter(data_distance, data_height, label=\"True data\")\n",
        "plt.scatter(predicted_distance, data_height, label=\"Predicted data\")\n",
        "plt.ylabel(\"Height (m)\")\n",
        "plt.xlabel(\"Distance (m)\")\n",
        "plt.legend()\n",
        "plt.show()"
      ]
    },
    {
      "cell_type": "markdown",
      "id": "a0c20cee-f009-47b4-871b-459688773650",
      "metadata": {
        "id": "a0c20cee-f009-47b4-871b-459688773650"
      },
      "source": [
        "In this, we inputted the first half of the distance data to find the linear weights or parameters $b_j$.\n",
        "The prediction seems to give a reasonable trend, but drops more quickly than the actual data.\n",
        "\n",
        "However, it was fortunate in this case that we were able to capture the downward trend at all.\n",
        "Its possible that if we had used less data, the trend may have been even worse."
      ]
    },
    {
      "cell_type": "markdown",
      "metadata": {},
      "source": [
        "## <span style=\"color:Orange\">Problem 3</span>"
      ]
    },
    {
      "cell_type": "markdown",
      "metadata": {},
      "source": [
        "Repeat the previous fitting and predicting using the `AutoReg` class (last plot above) using only the first quarter of the data."
      ]
    },
    {
      "cell_type": "code",
      "execution_count": null,
      "id": "2c566a4d-f4b7-4a79-a59a-c9d38cc98d18",
      "metadata": {
        "colab": {
          "base_uri": "https://localhost:8080/",
          "height": 512
        },
        "id": "2c566a4d-f4b7-4a79-a59a-c9d38cc98d18",
        "outputId": "fc4fea98-40b4-42f4-a2b2-d3274b99d6d5"
      },
      "outputs": [],
      "source": [
        "# YOUR CODE HERE\n",
        "raise NotImplementedError()"
      ]
    },
    {
      "cell_type": "markdown",
      "metadata": {},
      "source": [
        "<span style=\"color:Violet\">Q</span>: Does it capture the downward trend of the data?</span> (answer in the cell below)"
      ]
    },
    {
      "cell_type": "markdown",
      "metadata": {},
      "source": []
    },
    {
      "cell_type": "markdown",
      "id": "49f70373-1156-4e28-8e5a-35b1fbf4ab52",
      "metadata": {
        "id": "49f70373-1156-4e28-8e5a-35b1fbf4ab52"
      },
      "source": [
        "Note that the trend is captured even worse. At a certain point, the forecast completely freezes (the distance doesn't increase)."
      ]
    },
    {
      "cell_type": "code",
      "execution_count": null,
      "id": "cb496ed4-f76a-4de3-94ae-a5a6d5c14872",
      "metadata": {
        "colab": {
          "base_uri": "https://localhost:8080/",
          "height": 512
        },
        "id": "cb496ed4-f76a-4de3-94ae-a5a6d5c14872",
        "outputId": "7fc81811-c26a-4ecc-e1e3-7b373af17bc4"
      },
      "outputs": [],
      "source": [
        "stationary_distance = test_launch[\"Distance (m)\"] - test_launch[\"Distance (m)\"].shift()\n",
        "quarter_distance = stationary_distance.iloc[1:16]\n",
        "quarter_height = test_launch[\"Height (m)\"].iloc[1:16]\n",
        "ar = AutoReg(quarter_distance, lags=5)\n",
        "\n",
        "ar_fitted = ar.fit()\n",
        "\n",
        "predicted_distance = ar.predict(ar_fitted.params, start=len(quarter_distance)+1, end=4*(len(quarter_distance)+1)+1)\n",
        "data_distance = stationary_distance.iloc[16:]\n",
        "data_height = test_launch[\"Height (m)\"].iloc[16:]\n",
        "\n",
        "plt.close('all')\n",
        "plt.figure(figsize=(10,4))\n",
        "plt.scatter(quarter_distance, quarter_height, label=\"Input\")\n",
        "plt.scatter(data_distance, data_height, label=\"True data\")\n",
        "plt.scatter(predicted_distance, data_height, label=\"Predicted data\")\n",
        "plt.ylabel(\"Height (m)\")\n",
        "plt.xlabel(\"Distance (m)\")\n",
        "plt.legend()\n",
        "plt.show()"
      ]
    },
    {
      "cell_type": "markdown",
      "metadata": {},
      "source": [
        "---"
      ]
    },
    {
      "cell_type": "markdown",
      "metadata": {},
      "source": [
        "## <span style=\"color:LightGreen\">Autoregression</span>"
      ]
    },
    {
      "cell_type": "markdown",
      "id": "a7724e7a-edb6-49ac-8cea-f14f8f17000a",
      "metadata": {
        "id": "a7724e7a-edb6-49ac-8cea-f14f8f17000a"
      },
      "source": [
        "Another popular approach that takes a different perspective (based on stationarity) is to assume that future points will be the average with some added error.\n",
        "This is called the \"moving-average\" or MA model (not to be confused with our earlier exploration of moving averages).\n",
        "In this case, the error is considered to be a sum of previous errors so:\n",
        "$$ \\Large\n",
        "u(t_i) = f_{\\text{MA}} = \\hat{u} + \\epsilon_i + \\sum_{j=1}^q a_j \\epsilon_{i-j}\n",
        "$$"
      ]
    },
    {
      "cell_type": "markdown",
      "metadata": {},
      "source": [
        "### <span style=\"color:LightBlue\">ARMA</span>"
      ]
    },
    {
      "cell_type": "markdown",
      "id": "f096882a-b13a-447a-b487-79db5a1581ae",
      "metadata": {
        "id": "f096882a-b13a-447a-b487-79db5a1581ae"
      },
      "source": [
        "Though both AR and MA models are reasonable and popular choices, the most common time series forecasting method is the ARMA method which combines both the AR and MA linear models.\n",
        "It can thus be written as:\n",
        "$$ \\Large\n",
        "u(t_i) = \\epsilon_i + \\sum_{j=1}^p a_j \\epsilon_{i-j} + \\sum_{j=1}^q b_j u(t_{i-j})\n",
        "$$\n",
        "\n",
        "The `statsmodels.tsa` package in Python has a convenient class for forecasting with an ARMA model via the `ARIMA` class.\n",
        "ARIMA is a slight modification on ARMA that will be discussed momentarily.\n",
        "First, below is an example implementing forecasting using ARMA.\n",
        "The parameters are `ARIMA(p,d,q)` where `p` is the lag number for errors $\\epsilon_j$ and `q` is the lag number for values $u(t_j)$.\n",
        "\n",
        "The ARMA model usually assumes stationarity in the data.\n",
        "For this reason, we input our data after differencing to make it more stationary.\n",
        "As a result, the predictions are the differences between the steps.\n",
        "These need to be added up to predict the future state."
      ]
    },
    {
      "cell_type": "code",
      "execution_count": null,
      "id": "c9b49064-fd0f-4286-a5b4-b3d2b0042451",
      "metadata": {
        "colab": {
          "base_uri": "https://localhost:8080/",
          "height": 616
        },
        "id": "c9b49064-fd0f-4286-a5b4-b3d2b0042451",
        "outputId": "2aacb1e4-218b-4f62-93f2-5e6633276580"
      },
      "outputs": [],
      "source": [
        "# Make our distance variable stationary before fitting the ARMA model\n",
        "quarter_distance = test_launch[\"Distance (m)\"].iloc[:16]\n",
        "quarter_height = test_launch[\"Height (m)\"].iloc[:16]\n",
        "stationary_distance = quarter_distance - quarter_distance.shift()\n",
        "\n",
        "# Fit the ARMA model\n",
        "p = 5\n",
        "d = 0\n",
        "q = 5\n",
        "arma = ARIMA(stationary_distance[1:], order=(p,d,q))\n",
        "arma_fitted = arma.fit()\n",
        "\n",
        "# Forecast future steps\n",
        "predicted_distance = arma_fitted.forecast(steps=50)\n",
        "\n",
        "# Take the cummulative sum of the predictions (differences) and add to the last training value\n",
        "predicted_distance = np.cumsum(predicted_distance) + quarter_distance.iloc[-1]\\\n",
        "\n",
        "data_distance = test_launch[\"Distance (m)\"].iloc[16:]\n",
        "data_height = test_launch[\"Height (m)\"].iloc[16:]\n",
        "\n",
        "# Plot the predictions as compared to the true values\n",
        "plt.close('all')\n",
        "plt.figure(figsize=(10,4))\n",
        "plt.scatter(quarter_distance, quarter_height, label=\"Input\")\n",
        "plt.scatter(data_distance, data_height, label=\"True data\")\n",
        "plt.scatter(predicted_distance, data_height, label=\"Predicted data\")\n",
        "plt.ylabel(\"Height (m)\")\n",
        "plt.xlabel(\"Distance (m)\")\n",
        "plt.legend()\n",
        "plt.show()"
      ]
    },
    {
      "cell_type": "markdown",
      "id": "f61aa49e-4810-4616-b790-2d0dec1a93c6",
      "metadata": {
        "id": "f61aa49e-4810-4616-b790-2d0dec1a93c6"
      },
      "source": [
        "The predicted data seems to follow the path of a projectile with no drag. However, it no longer freezes like we saw with the AR model!"
      ]
    },
    {
      "cell_type": "markdown",
      "metadata": {},
      "source": [
        "### <span style=\"color:LightBlue\">ARIMA</span>"
      ]
    },
    {
      "cell_type": "markdown",
      "metadata": {},
      "source": [
        "The ARMA model doesn't have a mechanism to adjust for trend or seasonality in the data.\n",
        "A slight adjustment to the model that accounts for the trend is to adjust the moving average of the errors $\\epsilon_j$.\n",
        "This is called the autoregressive integrating moving average model or ARIMA.\n",
        "It can be written as:\n",
        "$$\n",
        "u(t_i) = \\epsilon_i + \\sum_{j=1}^{p-d} a_j \\epsilon_{i-j} + \\sum_{j=1}^q b_j u(t_{i-j})\n",
        "$$\n",
        "where $d$ is an adjustment for the trend."
      ]
    },
    {
      "cell_type": "markdown",
      "metadata": {},
      "source": [
        "## <span style=\"color:Orange\">Problem 4</span>"
      ]
    },
    {
      "cell_type": "markdown",
      "metadata": {},
      "source": [
        "Adjust the ARMA model example with alternate values of `d` to account for the increasing trend of our distance data and remake the last plot above using your chosen value of `d` that illustrates the desired effect."
      ]
    },
    {
      "cell_type": "code",
      "execution_count": null,
      "id": "760efacb-a57c-402c-b134-de82bce0e1a4",
      "metadata": {
        "colab": {
          "base_uri": "https://localhost:8080/",
          "height": 616
        },
        "id": "760efacb-a57c-402c-b134-de82bce0e1a4",
        "outputId": "fa1e235f-78d3-4896-a601-27a9bdf186d1"
      },
      "outputs": [],
      "source": [
        "# YOUR CODE HERE\n",
        "raise NotImplementedError()"
      ]
    },
    {
      "cell_type": "markdown",
      "metadata": {},
      "source": [
        "<span style=\"color:Violet\">Q</span>: Could you find a value that matches the future data better? (answer in the cell below)"
      ]
    },
    {
      "cell_type": "markdown",
      "metadata": {},
      "source": []
    },
    {
      "cell_type": "markdown",
      "id": "f7980583-b716-4dbc-bd30-caaabaef53c1",
      "metadata": {
        "id": "f7980583-b716-4dbc-bd30-caaabaef53c1"
      },
      "source": [
        "----\n",
        "\n",
        "With trend included, the forecasting is much more accurate!"
      ]
    },
    {
      "cell_type": "markdown",
      "id": "4f4fb058-d924-4b52-84b0-da0a0af774e3",
      "metadata": {
        "id": "4f4fb058-d924-4b52-84b0-da0a0af774e3"
      },
      "source": [
        "## <span style=\"color:LightGreen\">Appendix</span>\n",
        "\n",
        "**Resources:**\n",
        "- https://www.kaggle.com/code/prashant111/complete-guide-on-time-series-analysis-in-python\n",
        "- https://medium.com/open-machine-learning-course/open-machine-learning-course-topic-9-time-series-analysis-in-python-a270cb05e0b3\n",
        "- https://towardsdatascience.com/the-complete-guide-to-time-series-analysis-and-forecasting-70d476bfe775"
      ]
    }
  ],
  "metadata": {
    "colab": {
      "include_colab_link": true,
      "provenance": []
    },
    "kernelspec": {
      "display_name": "Python 3 (ipykernel)",
      "language": "python",
      "name": "python3"
    },
    "language_info": {
      "codemirror_mode": {
        "name": "ipython",
        "version": 3
      },
      "file_extension": ".py",
      "mimetype": "text/x-python",
      "name": "python",
      "nbconvert_exporter": "python",
      "pygments_lexer": "ipython3",
      "version": "3.11.2"
    }
  },
  "nbformat": 4,
  "nbformat_minor": 5
}
