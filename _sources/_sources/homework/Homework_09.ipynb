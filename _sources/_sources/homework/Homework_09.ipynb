{
  "nbformat": 4,
  "nbformat_minor": 0,
  "metadata": {
    "colab": {
      "provenance": []
    },
    "kernelspec": {
      "name": "python3",
      "display_name": "Python 3"
    },
    "language_info": {
      "name": "python"
    }
  },
  "cells": [
    {
      "cell_type": "markdown",
      "source": [
        "**Problem 1**\n",
        "Write a toy Monte Carlo to go through the discussion outlined for the Gaussian  problem discussed in class.  Run the MC 1000 times for the alternative and null hypothesis.  Verify that you get the Type 1 and Type 2 error rates you expect (each iteration of the MC would have the 16 samples in the original problem)."
      ],
      "metadata": {
        "id": "SzlIdlffQ_x-"
      }
    },
    {
      "cell_type": "markdown",
      "source": [
        "**Problem 2**\n",
        "Reduce the number of samples from 16 to 9.  How does the power of the test change?"
      ],
      "metadata": {
        "id": "nYNlL9_0RtNm"
      }
    },
    {
      "cell_type": "code",
      "execution_count": null,
      "metadata": {
        "id": "wFmXMN_xQXdK"
      },
      "outputs": [],
      "source": []
    }
  ]
}