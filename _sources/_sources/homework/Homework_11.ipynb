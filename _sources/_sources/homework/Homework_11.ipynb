{
  "nbformat": 4,
  "nbformat_minor": 0,
  "metadata": {
    "colab": {
      "provenance": []
    },
    "kernelspec": {
      "name": "python3",
      "display_name": "Python 3"
    },
    "language_info": {
      "name": "python"
    }
  },
  "cells": [
    {
      "cell_type": "markdown",
      "source": [
        "In class we discussed fitting correlation functions to calculate Fourier coefficients.  Here we're going to use additional techniques to calculate Fourier coefficients from data.  \n",
        "\n",
        "There are two data sets:\n",
        "\n",
        "https://courses.physics.illinois.edu/phys398dap/fa2023/data/vn_set1.csv\n",
        "\n",
        "and\n",
        "\n",
        "https://courses.physics.illinois.edu/phys398dap/fa2023/data/vn_set2.csv\n",
        "\n",
        "Each data set contains two columns; the first is the event number and the second is an angle $\\phi$.\n",
        "\n",
        "One common technique is calculating the average value of the correlator\n",
        "$ v_n\\{2\\}^2 = \\langle \\langle \\cos n (\\phi_i - \\phi_j) \\rangle \\rangle$ for all pairs where $i \\neq j $.  The inner set of $\\langle \\rangle$ indicates an average over all distinct pairs in the event and the outer set of $\\langle \\rangle$ indicates an average over all events.  \n",
        "\n",
        "(remember: all combinations of angles should only occur for particles *within the same event*)."
      ],
      "metadata": {
        "id": "4VyyEHdIglbJ"
      }
    },
    {
      "cell_type": "markdown",
      "source": [
        "Part 1: Calculate $\\langle v_2^2 \\rangle$ of the dataset provided using the fit method from class.  Include a plot and make sure to include the uncertainty in your estimation."
      ],
      "metadata": {
        "id": "LKcL37XGpRkh"
      }
    },
    {
      "cell_type": "markdown",
      "source": [
        "Part 2:  Using the dataset provided calculate the value of $$v_n\\{2\\}^2 = \\langle \\langle \\cos n (\\phi_i - \\phi_j) \\rangle \\rangle$$  Get an uncertainty on the $v_2\\{2\\}^2$ value using the scipy.bootstrap function (make sure to use the confidence_level=0.68 option to get a *1 $\\sigma$* uncertainty).  Is the value of $v_2\\{2\\}$ you calculated here  the same as the $\\sqrt{\\langle v_2^2} \\rangle$ from Part 1?  Explain what you see."
      ],
      "metadata": {
        "id": "u94Sgzm-oZvG"
      }
    },
    {
      "cell_type": "markdown",
      "source": [
        "Part 3: One issue with using two particle correlations is that there are many things that can create correlations between pairs of particles (e.g. the particles could come from the decay of another particle, a glitch in the detector could cause a particle to be measured twice, ...).  One way people minimize these effects is (you guessed it), measuring more than two particles.\n",
        "\n",
        "The simplest extension is the four-particle correlator: $\\langle \\langle \\cos n (\\phi_i + \\phi_j - \\phi_k - \\phi_l) \\rangle \\rangle$.  This measures genuine four-particle correlations, plus sets of four where two particles are correlated and the other two are not.  In order to measure $v_2$ we need to subtract out those two-particle correlations we're not interested in:\n",
        "$$v_2^4\\{4\\} = 2 \\times \\left(\\langle \\langle \\cos 2 (\\phi_i - \\phi_j) \\rangle\\rangle\\right)^2 - \\langle \\langle \\cos 2 (\\phi_i + \\phi_j - \\phi_k - \\phi_l) \\rangle \\rangle$$ (here $i \\neq j \\neq k \\neq l$).\n",
        "\n",
        "Calculate $v_2\\{4\\}$ and the uncertainty and compare the value to what you got for $v_2\\{2\\}$ in Part 2. (for the uncertainties, I recommend you do the bootstrap on the rhs of the equation before taking the 1/4 power.  If you have some negative numbers for the difference, you'll get some problems taking the 1/4 power.)"
      ],
      "metadata": {
        "id": "VfjgF43zqPKl"
      }
    },
    {
      "cell_type": "markdown",
      "source": [
        "Part 4: Compare the two datasets to each other for each observable you calculated here.  Can you conclude anything about the two datasets?"
      ],
      "metadata": {
        "id": "gHH_xmR-cx_q"
      }
    },
    {
      "cell_type": "markdown",
      "source": [
        "Part 5:  The four-particle correlations took longer to compute than the two-particle correlations.  How much of an effect was it?  Would you rather increase the precision of the measurement by adding events to the sample or by increasing the number of particles in each event? (There is actually a faster way that doesn't involve these loops; if you're interested, take a look at [this](https://inspirehep.net/literature/871528)."
      ],
      "metadata": {
        "id": "ylulMx7Qzdtb"
      }
    }
  ]
}